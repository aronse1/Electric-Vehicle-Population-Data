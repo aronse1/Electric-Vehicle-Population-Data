{
 "cells": [
  {
   "cell_type": "code",
   "execution_count": 3,
   "metadata": {},
   "outputs": [],
   "source": [
    "import pandas as pd\n",
    "import os\n",
    "import glob"
   ]
  },
  {
   "cell_type": "code",
   "execution_count": 4,
   "metadata": {},
   "outputs": [
    {
     "name": "stdout",
     "output_type": "stream",
     "text": [
      "Found 12 files\n",
      "Merged dataframe shape: (41169720, 19)\n",
      "Merged and cleaned data saved to ../data/processed/yellow_tripdata_2024_merged.parquet\n"
     ]
    }
   ],
   "source": [
    "def merge_parquet_files():\n",
    "    output_dir = '../data/processed'\n",
    "    os.makedirs(output_dir, exist_ok=True)\n",
    "    \n",
    "    all_files = glob.glob('../data/raw/yellow_tripdata_2024-*.parquet')\n",
    "    \n",
    "    if not all_files:\n",
    "        print(\"No files found in data/raw/. Checking current directory...\")\n",
    "        all_files = glob.glob('yellow_tripdata_2024-*.parquet')\n",
    "    \n",
    "    if not all_files:\n",
    "        raise FileNotFoundError(\"No parquet files found\")\n",
    "    \n",
    "    print(f\"Found {len(all_files)} files\")\n",
    "    \n",
    "    dfs = []\n",
    "    for file in all_files:\n",
    "        df = pd.read_parquet(file)\n",
    "        dfs.append(df)\n",
    "    \n",
    "    merged_df = pd.concat(dfs, ignore_index=True)\n",
    "    print(f\"Merged dataframe shape: {merged_df.shape}\")\n",
    "    \n",
    "    merged_df = clean_data(merged_df)\n",
    "    \n",
    "    merged_df.to_parquet(f'{output_dir}/yellow_tripdata_2024_merged.parquet', index=False)\n",
    "    print(f\"Merged and cleaned data saved to {output_dir}/yellow_tripdata_2024_merged.parquet\")\n",
    "\n",
    "def clean_data(df):\n",
    "    df = df.dropna(subset=['tpep_pickup_datetime', 'tpep_dropoff_datetime'])\n",
    "    df = df[df['fare_amount'] > 0]\n",
    "    df = df[df['trip_distance'] > 0]\n",
    "    return df\n",
    "\n",
    "merge_parquet_files()"
   ]
  }
 ],
 "metadata": {
  "kernelspec": {
   "display_name": "Python 3",
   "language": "python",
   "name": "python3"
  },
  "language_info": {
   "codemirror_mode": {
    "name": "ipython",
    "version": 3
   },
   "file_extension": ".py",
   "mimetype": "text/x-python",
   "name": "python",
   "nbconvert_exporter": "python",
   "pygments_lexer": "ipython3",
   "version": "3.9.6"
  }
 },
 "nbformat": 4,
 "nbformat_minor": 2
}
