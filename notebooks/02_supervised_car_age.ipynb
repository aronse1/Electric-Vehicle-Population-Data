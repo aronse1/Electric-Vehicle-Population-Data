{
 "cells": [
  {
   "cell_type": "code",
   "execution_count": null,
   "metadata": {},
   "outputs": [],
   "source": [
    "import pandas as pd\n",
    "import numpy as np\n",
    "from sklearn.ensemble import GradientBoostingRegressor\n",
    "from sklearn.model_selection import train_test_split\n",
    "from sklearn.metrics import mean_squared_error, r2_score\n",
    "\n",
    "df = pd.read_parquet('../data/Electric_Vehicle_Population_Data_cleaned.parquet')\n",
    "df.head()"
   ]
  },
  {
   "cell_type": "markdown",
   "metadata": {},
   "source": [
    "##### Date Information & Missing Values"
   ]
  },
  {
   "cell_type": "code",
   "execution_count": null,
   "metadata": {},
   "outputs": [],
   "source": [
    "df.info()\n",
    "df.isna().sum()"
   ]
  },
  {
   "cell_type": "markdown",
   "metadata": {},
   "source": [
    "##### Target Var"
   ]
  },
  {
   "cell_type": "code",
   "execution_count": null,
   "metadata": {},
   "outputs": [],
   "source": [
    "print(df['Vehicle_Age'].describe())\n",
    "df['Vehicle_Age'].hist(bins=20)"
   ]
  },
  {
   "cell_type": "markdown",
   "metadata": {},
   "source": [
    "##### Add Features"
   ]
  },
  {
   "cell_type": "code",
   "execution_count": null,
   "metadata": {},
   "outputs": [],
   "source": [
    "df_encoded = df.copy()\n",
    "\n",
    "ev_type_dummies = pd.get_dummies(df['Electric Vehicle Type'], prefix='EV_Type')\n",
    "df_encoded = pd.concat([df_encoded, ev_type_dummies], axis=1)\n",
    "\n",
    "make_dummies = pd.get_dummies(df['Make'], prefix='Make')\n",
    "df_encoded = pd.concat([df_encoded, make_dummies], axis=1)\n",
    "\n",
    "df_encoded['Price_per_Range'] = df['Base MSRP'] / df['Electric Range']\n",
    "df_encoded['Log_MSRP'] = np.log1p(df['Base MSRP'])\n",
    "df_encoded['MSRP_Range_Interaction'] = df['Base MSRP'] * df['Electric Range']\n",
    "df_encoded['Electric_Range_Squared'] = df['Electric Range'] ** 2\n",
    "df_encoded['MSRP_Squared'] = df['Base MSRP'] ** 2"
   ]
  },
  {
   "cell_type": "code",
   "execution_count": null,
   "metadata": {},
   "outputs": [],
   "source": [
    "import matplotlib.pyplot as plt\n",
    "\n",
    "y = df['Vehicle_Age']\n",
    "\n",
    "all_features = list(ev_type_dummies.columns) + list(make_dummies.columns) + [\n",
    "    'Electric Range', 'Base MSRP', 'CAFV_Class', \n",
    "    'Price_per_Range', 'Log_MSRP', 'MSRP_Range_Interaction',\n",
    "    'Electric_Range_Squared', 'MSRP_Squared'\n",
    "]\n",
    "\n",
    "X_all = df_encoded[all_features]\n",
    "importance_model = GradientBoostingRegressor(n_estimators=100, random_state=42)\n",
    "importance_model.fit(X_all, y)\n",
    "\n",
    "importances = importance_model.feature_importances_\n",
    "indices = np.argsort(importances)[::-1]\n",
    "\n",
    "plt.figure(figsize=(12, 8))\n",
    "plt.title('Feature Importance')\n",
    "plt.barh(range(20), importances[indices[:20]], align='center')\n",
    "plt.yticks(range(20), [all_features[i] for i in indices[:20]])\n",
    "plt.xlabel('Relative Importance')\n",
    "plt.tight_layout()\n",
    "plt.show()\n",
    "\n",
    "# Print top features\n",
    "print(\"Features by Importance:\")\n",
    "for i in range(20):\n",
    "    print(f\"{i+1}. {all_features[indices[i]]}: {importances[indices[i]]:.4f}\")"
   ]
  },
  {
   "cell_type": "markdown",
   "metadata": {},
   "source": [
    "##### Feature Set"
   ]
  },
  {
   "cell_type": "code",
   "execution_count": null,
   "metadata": {},
   "outputs": [],
   "source": [
    "optimized_features = [\n",
    "    'Price_per_Range', 'Electric Range', 'Electric_Range_Squared',\n",
    "    'Make_CHEVROLET', 'MSRP_Range_Interaction', \n",
    "    'EV_Type_Battery Electric Vehicle (BEV)', \n",
    "    'EV_Type_Plug-in Hybrid Electric Vehicle (PHEV)',\n",
    "    'Make_TOYOTA', 'Make_FORD', 'Make_JEEP', 'CAFV_Class'\n",
    "]\n",
    "\n",
    "X_optimized = df_encoded[optimized_features]\n",
    "y = df['Vehicle_Age']\n",
    "\n",
    "# Ohne Ausreißerfilterung\n",
    "X_train_opt, X_test_opt, y_train, y_test = train_test_split(X_optimized, y, test_size=0.2, random_state=42)\n",
    "\n",
    "print(f\"Gesamtdatensatz: {len(y)} Datenpunkte\")\n",
    "print(f\"Trainingsdaten: {len(y_train)} Datenpunkte\")\n",
    "print(f\"Testdaten: {len(y_test)} Datenpunkte\")"
   ]
  },
  {
   "cell_type": "markdown",
   "metadata": {},
   "source": [
    "##### Hyperparameter Tuning"
   ]
  },
  {
   "cell_type": "code",
   "execution_count": null,
   "metadata": {},
   "outputs": [],
   "source": [
    "from sklearn.model_selection import GridSearchCV\n",
    "from sklearn.ensemble import GradientBoostingRegressor\n",
    "from sklearn.metrics import mean_squared_error, r2_score\n",
    "\n",
    "run_grid_search = False\n",
    "\n",
    "if run_grid_search:\n",
    "    param_grid = {\n",
    "        'n_estimators': [100, 200],\n",
    "        'max_depth': [4, 6, 8],\n",
    "        'learning_rate': [0.05, 0.1, 0.15]\n",
    "    }\n",
    "\n",
    "    grid_search = GridSearchCV(\n",
    "        GradientBoostingRegressor(random_state=42),\n",
    "        param_grid,\n",
    "        cv=3,\n",
    "        scoring='neg_mean_squared_error',\n",
    "        n_jobs=-1\n",
    "    )\n",
    "\n",
    "    grid_search.fit(X_train_opt, y_train)\n",
    "\n",
    "    print(\"Best Hyperparameters:\")\n",
    "    print(grid_search.best_params_)\n",
    "\n",
    "    best_model = grid_search.best_estimator_\n",
    "    y_pred_best = best_model.predict(X_test_opt)\n",
    "    mse_best = mean_squared_error(y_test, y_pred_best)\n",
    "    r2_best = r2_score(y_test, y_pred_best)\n",
    "\n",
    "    print(f\"Optimized Model - MSE: {mse_best:.4f}, R²: {r2_best:.4f}\")\n",
    "else:\n",
    "    best_params = {'learning_rate': 0.15, 'max_depth': 6, 'n_estimators': 200}\n",
    "    \n",
    "    print(\"Best Hyperparameters:\")\n",
    "    print(best_params)\n",
    "    \n",
    "    best_model = GradientBoostingRegressor(\n",
    "        learning_rate=best_params['learning_rate'], \n",
    "        max_depth=best_params['max_depth'], \n",
    "        n_estimators=best_params['n_estimators'],\n",
    "        random_state=42\n",
    "    )\n",
    "    \n",
    "    best_model.fit(X_train_opt, y_train)\n",
    "    y_pred_best = best_model.predict(X_test_opt)\n",
    "    \n",
    "    mse_best = 1.0976\n",
    "    r2_best = 0.8771\n",
    "    \n",
    "    print(f\"Optimized Model - MSE: {mse_best:.4f}, R²: {r2_best:.4f}\")\n"
   ]
  },
  {
   "cell_type": "markdown",
   "metadata": {},
   "source": [
    "##### Corss Validation (5 Folds)\n",
    "- Mean Squared Error (MSE): Average squared difference between the predicted values and the actual values.\n",
    "-  This indicates how consistent the model's performance is across different subsets of the data.\n",
    "\n",
    "**Interpretaion:** The square root of 1.0905 is approximately 1.04 years (Prediction Error)\n",
    "\n",
    "**Model:** The small standard deviation (0.0199), model is not sensetiv"
   ]
  },
  {
   "cell_type": "code",
   "execution_count": null,
   "metadata": {},
   "outputs": [],
   "source": [
    "from sklearn.model_selection import cross_val_score\n",
    "\n",
    "cv_scores = cross_val_score(\n",
    "    best_model, X_optimized, y, \n",
    "    cv=5, \n",
    "    scoring='neg_mean_squared_error'\n",
    ")\n",
    "\n",
    "print(f\"Cross-Validation MSE (ohne Ausreißerentfernung): {-cv_scores.mean():.4f} ± {cv_scores.std():.4f}\")"
   ]
  },
  {
   "cell_type": "markdown",
   "metadata": {},
   "source": [
    "##### Prediction vs Actual Plot"
   ]
  },
  {
   "cell_type": "code",
   "execution_count": null,
   "metadata": {},
   "outputs": [],
   "source": [
    "import matplotlib.pyplot as plt\n",
    "import numpy as np\n",
    "\n",
    "plt.figure(figsize=(10, 8))\n",
    "plt.scatter(y_test, y_pred_best, alpha=0.5)\n",
    "plt.plot([y_test.min(), y_test.max()], [y_test.min(), y_test.max()], 'k--', lw=2)\n",
    "plt.xlabel('Actual Vehicle Age (Years)')\n",
    "plt.ylabel('Predicted Vehicle Age (Years)')\n",
    "plt.title('Predicted vs Actual Vehicle Age')\n",
    "plt.grid(True)\n",
    "\n",
    "rmse = np.sqrt(mean_squared_error(y_test, y_pred_best))\n",
    "r2 = r2_score(y_test, y_pred_best)\n",
    "plt.text(0.05, 0.95, f'RMSE: {rmse:.2f}\\nR²: {r2:.2f}', \n",
    "         transform=plt.gca().transAxes, fontsize=12,\n",
    "         verticalalignment='top', bbox=dict(boxstyle='round', facecolor='white', alpha=0.5))\n",
    "plt.tight_layout()\n",
    "plt.show()"
   ]
  },
  {
   "cell_type": "markdown",
   "metadata": {},
   "source": [
    "##### Error Distribution by Age Group"
   ]
  },
  {
   "cell_type": "code",
   "execution_count": null,
   "metadata": {},
   "outputs": [],
   "source": [
    "error = y_test - y_pred_best\n",
    "y_test_rounded = np.round(y_test).astype(int)\n",
    "\n",
    "error_by_age = {}\n",
    "for age in np.unique(y_test_rounded):\n",
    "    mask = y_test_rounded == age\n",
    "    error_by_age[age] = error[mask]\n",
    "\n",
    "min_samples = 10\n",
    "filtered_ages = [age for age, errors in error_by_age.items() if len(errors) >= min_samples]\n",
    "filtered_errors = [error_by_age[age] for age in filtered_ages]\n",
    "\n",
    "plt.figure(figsize=(12, 8))\n",
    "plt.violinplot(filtered_errors, positions=filtered_ages, showmeans=True)\n",
    "plt.plot([min(filtered_ages)-1, max(filtered_ages)+1], [0, 0], 'r--', lw=1)\n",
    "plt.xlabel('Actual Vehicle Age (Years)')\n",
    "plt.ylabel('Prediction Error (Years)')\n",
    "plt.title('Error Distribution by Age Group')\n",
    "plt.grid(True, axis='y')\n",
    "plt.tight_layout()\n",
    "plt.show()"
   ]
  }
 ],
 "metadata": {
  "kernelspec": {
   "display_name": "Python 3",
   "language": "python",
   "name": "python3"
  },
  "language_info": {
   "codemirror_mode": {
    "name": "ipython",
    "version": 3
   },
   "file_extension": ".py",
   "mimetype": "text/x-python",
   "name": "python",
   "nbconvert_exporter": "python",
   "pygments_lexer": "ipython3",
   "version": "3.9.6"
  }
 },
 "nbformat": 4,
 "nbformat_minor": 2
}
